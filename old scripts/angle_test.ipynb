{
 "cells": [
  {
   "cell_type": "code",
   "execution_count": 13,
   "metadata": {},
   "outputs": [
    {
     "name": "stdout",
     "output_type": "stream",
     "text": [
      "[ 0.09312  0.24567 -0.9641 ] [ 0.01984   0.24567  -0.968765]\n",
      "299.68102672125127\n"
     ]
    },
    {
     "data": {
      "text/plain": [
       "5.004673146244897"
      ]
     },
     "execution_count": 13,
     "metadata": {},
     "output_type": "execute_result"
    }
   ],
   "source": [
    "import numpy as np\n",
    "pointa = np.array([ 387.570679,    -31.266905,    -22.021992\n",
    "\n",
    "\n",
    "\n",
    "\n",
    "\n",
    "\n",
    "\n",
    "\n",
    "\n",
    "\n",
    "\n",
    "\n",
    "\n",
    "\n",
    "])\n",
    "eye1 = np.array([  -0.498657  ,     96.470753 ,     693.094727 ])\n",
    "eye2 =  np.array([  -0.498657  ,     96.470753 ,      693.054596 ])\n",
    "\n",
    "\n",
    "\n",
    "\n",
    "\n",
    "\n",
    "\n",
    "\n",
    "\n",
    "\n",
    "pointb = np.array([ 409.184418 ,   -35.023827  ,  -23.389391\n",
    "\n",
    "\n",
    "\n",
    "\n",
    "\n",
    "\n",
    "\n",
    "\n",
    "\n",
    " ])\n",
    "\n",
    "a1= pointa-eye1\n",
    "b2 = pointb-eye2\n",
    "#a1 = np.array([  412.633032  ,     -124.601751    ,   -719.053852])\n",
    "#b2 = np.array([  412.633032      , -128.588051  ,     -722.170641   ])\n",
    "dir1 = a1/np.linalg.norm(a1)\n",
    "dir2 = b2/np.linalg.norm(b2)\n",
    "dir1 = np.array([0.09312,\t0.24567\t,-0.9641\n",
    "])\n",
    "dir2 = np.array([0.01984,\t0.24567,\t-0.968765\n",
    "])\n",
    "print(dir1,dir2)\n",
    "\n",
    "\n",
    "\n",
    "\n",
    "\n",
    "\n",
    "\n",
    "\n",
    "\n",
    "\n",
    "\n",
    "\n",
    "\n",
    "\n",
    "dot = np.dot(dir1, dir2)\n",
    "'''\n",
    "dotb = np.dot(a, b)\n",
    "n1 = np.linalg.norm(dir1)\n",
    "n2 = np.linalg.norm(dir2)\n",
    "n3 = np.linalg.norm(b)\n",
    "cos = dot / (n1 * n2)\n",
    "cosb = dotb / (n2 * n3)'\n",
    "'''\n",
    "angl = np.arccos(np.clip(dot,-1,1))\n",
    "#anglb = np.arccos(np.clip(cosb,-1,1))\n",
    "dega = np.degrees(angl)\n",
    "#degb = np.degrees(anglb)\n",
    "#vel3 = abs(angl - anglb) / 0.02\n",
    "vel1 = dega/0.0167\n",
    "#vel2 = degb/0.017\n",
    "print(vel1)\n",
    "dega\n"
   ]
  },
  {
   "cell_type": "code",
   "execution_count": 5,
   "metadata": {},
   "outputs": [
    {
     "name": "stdout",
     "output_type": "stream",
     "text": [
      "[-0.26541787  0.45413568 -0.85047877]\n",
      "[-0.24404464  0.44919966 -0.85913087]\n"
     ]
    }
   ],
   "source": [
    "import numpy as np\n",
    "a = np.array([-185.7,\t370.5,\t-723.7\n",
    "\n",
    "\n",
    "\n",
    "\n",
    "\n",
    "\n",
    "\n",
    "\n",
    "\n",
    "\n",
    "\n",
    "\n",
    "\n",
    "])\n",
    "b = np.array([-223.2,\t381.9\t,-715.2\n",
    "\n",
    "\n",
    "\n",
    "\n",
    "\n",
    "\n",
    "\n",
    "\n",
    "\n",
    "\n",
    "\n",
    "\n",
    "\n",
    "\n",
    "\n",
    "])\n",
    "\n",
    "\n",
    "\n",
    "\n",
    "s =a/np.linalg.norm(a)\n",
    "s2 = b/np.linalg.norm(b)\n",
    "print(s2)\n",
    "print(np.mean([s, s2], axis=0))"
   ]
  },
  {
   "cell_type": "code",
   "execution_count": 10,
   "metadata": {},
   "outputs": [
    {
     "data": {
      "text/plain": [
       "249.9084501984771"
      ]
     },
     "execution_count": 10,
     "metadata": {},
     "output_type": "execute_result"
    }
   ],
   "source": [
    "import numpy as np\n",
    "\n",
    "def velocity_px_to_deg(x1, y1, x2, y2, delta_t, screen_width_px, screen_width_cm, screen_distance_cm):\n",
    "    \"\"\"\n",
    "    Converts gaze velocity from pixels/sec to degrees/sec.\n",
    "    \n",
    "    Parameters:\n",
    "        x1, y1: Coordinates of gaze point at time t1 (in pixels)\n",
    "        x2, y2: Coordinates of gaze point at time t2 (in pixels)\n",
    "        delta_t: Time difference between two samples (in seconds)\n",
    "        screen_width_px: Screen width in pixels\n",
    "        screen_width_cm: Screen width in centimeters\n",
    "        screen_distance_cm: Distance from eyes to screen in centimeters\n",
    "    \n",
    "    Returns:\n",
    "        velocity in degrees per second (°/s)\n",
    "    \"\"\"\n",
    "    # Convert pixel distance to cm using screen width\n",
    "    px_per_cm = screen_width_px / screen_width_cm\n",
    "\n",
    "    # Compute Euclidean distance in pixels\n",
    "    d_px = np.sqrt((x2 - x1) ** 2 + (y2 - y1) ** 2)\n",
    "\n",
    "    # Convert pixel distance to cm\n",
    "    #d_cm = d_px / px_per_cm\n",
    "\n",
    "    # Compute visual angle in degrees\n",
    "    theta = 2 * np.arctan((d_px) / (2*screen_distance_cm)) \n",
    "    ang = np.degrees(theta)\n",
    "\n",
    "    # Compute velocity in °/s\n",
    "    velocity_deg_per_sec = ang / delta_t if delta_t > 0 else 0\n",
    "\n",
    "    return velocity_deg_per_sec\n",
    "\n",
    "velocity_px_to_deg(391.75    ,    293.95,\n",
    "\n",
    "322.45  ,      220.10,\n",
    "\n",
    "0.034,1920,70.7,681.65)\n"
   ]
  },
  {
   "cell_type": "code",
   "execution_count": 38,
   "metadata": {},
   "outputs": [
    {
     "data": {
      "text/plain": [
       "array([-0.,  0., -1.])"
      ]
     },
     "execution_count": 38,
     "metadata": {},
     "output_type": "execute_result"
    }
   ],
   "source": [
    "eye_pos = np.round(np.array([-0.26134,0.449315,\t-0.853275]))\n",
    "dire = np.array([-0.26134,0.449315,\t-0.853275])\n",
    "gaze_p = eye_pos+dire*717.4\n",
    "eye_pos"
   ]
  },
  {
   "cell_type": "code",
   "execution_count": 12,
   "metadata": {},
   "outputs": [
    {
     "data": {
      "text/plain": [
       "28.59949049891405"
      ]
     },
     "execution_count": 12,
     "metadata": {},
     "output_type": "execute_result"
    }
   ],
   "source": [
    "a = np.array([18.7\t,362.2,0])\n",
    "\n",
    "b = np.array([ 21.85\t,358.2,0])\n",
    "\n",
    "d_px = np.linalg.norm(a-b)\n",
    "screen_distance_cm = 600\n",
    "theta = 2 * np.arctan((d_px) / (2*screen_distance_cm)) \n",
    "ang = np.degrees(theta)\n",
    "ang/0.017"
   ]
  },
  {
   "cell_type": "code",
   "execution_count": null,
   "metadata": {},
   "outputs": [],
   "source": []
  }
 ],
 "metadata": {
  "kernelspec": {
   "display_name": "gpu",
   "language": "python",
   "name": "python3"
  },
  "language_info": {
   "codemirror_mode": {
    "name": "ipython",
    "version": 3
   },
   "file_extension": ".py",
   "mimetype": "text/x-python",
   "name": "python",
   "nbconvert_exporter": "python",
   "pygments_lexer": "ipython3",
   "version": "3.12.3"
  }
 },
 "nbformat": 4,
 "nbformat_minor": 2
}
